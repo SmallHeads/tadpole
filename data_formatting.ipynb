{
 "cells": [
  {
   "cell_type": "code",
   "execution_count": 118,
   "metadata": {
    "collapsed": true
   },
   "outputs": [],
   "source": [
    "import pandas as pd\n",
    "import numpy as np"
   ]
  },
  {
   "cell_type": "code",
   "execution_count": 2,
   "metadata": {
    "collapsed": true
   },
   "outputs": [],
   "source": [
    "full_df = pd.read_csv('/Users/AngelaTam/Downloads/inputed50_cleaned.csv')\n",
    "ref_df = pd.read_csv('/Users/AngelaTam/Downloads/inputed50_ref.csv')\n",
    "d1d2 = pd.read_csv('/Users/AngelaTam/Downloads/tadpole_challenge/TADPOLE_D1_D2.csv')"
   ]
  },
  {
   "cell_type": "code",
   "execution_count": 13,
   "metadata": {
    "collapsed": true
   },
   "outputs": [],
   "source": [
    "full_df.drop(full_df.columns[0],axis=1,inplace=True)"
   ]
  },
  {
   "cell_type": "code",
   "execution_count": 79,
   "metadata": {
    "collapsed": true
   },
   "outputs": [],
   "source": [
    "full_df['RID'] = ref_df['RID']\n",
    "full_df['VISCODE'] = ref_df['VISCODE']\n",
    "full_df['COLPROT'] = ref_df['COLPROT']\n",
    "full_df['EXAMDATE'] = ref_df['EXAMDATE']\n",
    "full_df['Month_bl'] = d1d2['Month_bl']"
   ]
  },
  {
   "cell_type": "code",
   "execution_count": 80,
   "metadata": {
    "collapsed": false,
    "scrolled": true
   },
   "outputs": [
    {
     "name": "stderr",
     "output_type": "stream",
     "text": [
      "/Users/AngelaTam/anaconda3/lib/python3.5/site-packages/ipykernel/__main__.py:8: SettingWithCopyWarning: \n",
      "A value is trying to be set on a copy of a slice from a DataFrame.\n",
      "Try using .loc[row_indexer,col_indexer] = value instead\n",
      "\n",
      "See the caveats in the documentation: http://pandas.pydata.org/pandas-docs/stable/indexing.html#indexing-view-versus-copy\n"
     ]
    },
    {
     "data": {
      "text/plain": [
       "\"\\ndata['VISCODE'][data['VISCODE']=='bl'] = 0\\ndata['VISCODE'][data['VISCODE']=='m06'] = 0.6\\ndata['VISCODE'][data['VISCODE']=='m12'] = 1\\ndata['VISCODE'][data['VISCODE']=='m18'] = 1.6\\ndata['VISCODE'][data['VISCODE']=='m24'] = 2\\ndata['VISCODE'][data['VISCODE']=='m36'] = 3\\ndata['VISCODE'][data['VISCODE']=='m48'] = 4\\ndata['VISCODE'][data['VISCODE']=='m60'] = 5\\ndata['VISCODE'][data['VISCODE']=='m72'] = 6\\ndata['VISCODE'][data['VISCODE']=='m84'] = 7\\ndata['VISCODE'][data['VISCODE']=='m96'] = 8\\ndata['VISCODE'][data['VISCODE']=='m108'] = 9\\ndata['VISCODE'][data['VISCODE']=='m120'] = 10\\n\""
      ]
     },
     "execution_count": 80,
     "metadata": {},
     "output_type": "execute_result"
    }
   ],
   "source": [
    "data = full_df\n",
    "\n",
    "target = ref_df[['y_DX','y_ADAS13','y_Ventricles_adj_TIV']]\n",
    "#target = target.dropna(axis=0)\n",
    "#data = data.loc[target.index]\n",
    "#data = data.dropna(axis=1)\n",
    "#target = target.loc[data.index]\n",
    "target['Month_bl'] = data['Month_bl']\n",
    "target = target[['Month_bl','y_DX','y_ADAS13','y_Ventricles_adj_TIV']]"
   ]
  },
  {
   "cell_type": "code",
   "execution_count": 99,
   "metadata": {
    "collapsed": true
   },
   "outputs": [],
   "source": [
    "for col in target.columns[1:]:\n",
    "    data[col] = target[col]"
   ]
  },
  {
   "cell_type": "code",
   "execution_count": 124,
   "metadata": {
    "collapsed": false
   },
   "outputs": [],
   "source": [
    "\n",
    "def compute_data_table(sel_index):\n",
    "    x_ = []\n",
    "    y_ = []\n",
    "    selection = data.iloc[sel_index][['RID','Month_bl']]\n",
    "    for i in range(selection.shape[0]):\n",
    "        rid, vis_month = selection.iloc[i].values\n",
    "        #print(rid,vis_month)\n",
    "        mask = (data[data['RID']==rid]['Month_bl']>vis_month).values\n",
    "\n",
    "        valid_data = data[data['RID']==rid][mask]\n",
    "        target_ = target[data['RID']==rid][mask]\n",
    "        \n",
    "        #print(mask)\n",
    "        if valid_data.shape[0]>0:\n",
    "            # add to x \n",
    "            x_.append(data.iloc[sel_index[i]].drop(['VISCODE','EXAMDATE','COLPROT','Month_bl']).values)\n",
    "            # add to y\n",
    "            target_ = target_.values\n",
    "            target_[:,0] = target_[:,0]-vis_month\n",
    "            #print(target_)\n",
    "            \n",
    "            y_.append(target_)\n",
    "            \n",
    "    return x_,y_\n",
    " \n"
   ]
  },
  {
   "cell_type": "code",
   "execution_count": 125,
   "metadata": {
    "collapsed": false
   },
   "outputs": [
    {
     "name": "stderr",
     "output_type": "stream",
     "text": [
      "ERROR:root:Internal Python error in the inspect module.\n",
      "Below is the traceback from this internal error.\n",
      "\n",
      "\n",
      "KeyboardInterrupt\n",
      "\n"
     ]
    }
   ],
   "source": [
    "sel_index = data.index\n",
    "x_,y_ = compute_data_table(sel_index) "
   ]
  },
  {
   "cell_type": "code",
   "execution_count": null,
   "metadata": {
    "collapsed": true
   },
   "outputs": [],
   "source": []
  }
 ],
 "metadata": {
  "anaconda-cloud": {},
  "kernelspec": {
   "display_name": "Python [conda root]",
   "language": "python",
   "name": "conda-root-py"
  },
  "language_info": {
   "codemirror_mode": {
    "name": "ipython",
    "version": 3
   },
   "file_extension": ".py",
   "mimetype": "text/x-python",
   "name": "python",
   "nbconvert_exporter": "python",
   "pygments_lexer": "ipython3",
   "version": "3.5.2"
  }
 },
 "nbformat": 4,
 "nbformat_minor": 1
}
