{
 "cells": [
  {
   "cell_type": "code",
   "execution_count": 118,
   "metadata": {
    "collapsed": true
   },
   "outputs": [],
   "source": [
    "import pandas as pd\n",
    "import numpy as np"
   ]
  },
  {
   "cell_type": "code",
   "execution_count": 252,
   "metadata": {
    "collapsed": false
   },
   "outputs": [
    {
     "name": "stderr",
     "output_type": "stream",
     "text": [
      "/Users/AngelaTam/anaconda3/lib/python3.5/site-packages/IPython/core/interactiveshell.py:2717: DtypeWarning: Columns (471,473,474,487,488,489,490,491,492,493,494,495,496,497,498,499,500,501,502,503,504,505,506,507,508,509,510,511,512,513,514,515,516,517,518,519,520,521,522,523,524,525,526,527,528,529,530,531,532,533,534,535,536,537,538,539,540,541,542,543,544,545,546,547,548,549,550,551,552,553,554,555,556,557,558,559,560,561,562,563,569,570,572,573,574,575,576,577,578,579,580,581,582,583,584,585,586,587,588,589,590,591,592,593,594,595,596,597,599,601,606,607,608,609,610,611,612,613,614,615,616,617,618,619,620,621,624,625,626,627,628,629,630,631,632,633,634,636,637,638,639,640,641,642,643,644,645,646,647,648,649,650,651,652,653,654,655,656,657,658,659,660,661,663,664,665,666,667,668,669,670,671,672,673,674,675,676,677,678,679,680,681,682,683,684,685,686,687,688,689,690,691,692,693,694,695,696,697,698,699,700,701,702,703,704,705,706,707,708,709,710,711,712,713,714,715,716,717,718,719,720,721,722,723,724,725,726,727,728,729,730,731,732,733,734,735,736,737,738,739,745,746,748,749,750,751,752,753,754,755,756,757,758,759,760,761,762,763,764,765,766,767,770,771,776,777,778,779,780,781,782,783,784,785,786,787,788,789,790,791,794,795,797,798,799,800,801,802,803,804,806,807,808,809,810,811,812,813,814,815,816,817,818,819,820,821,822,823,824,825,826,827,828,829,830,831) have mixed types. Specify dtype option on import or set low_memory=False.\n",
      "  interactivity=interactivity, compiler=compiler, result=result)\n"
     ]
    }
   ],
   "source": [
    "full_df = pd.read_csv('/Users/AngelaTam/Downloads/inputed50_cleaned.csv')\n",
    "ref_df = pd.read_csv('/Users/AngelaTam/Downloads/inputed50_ref.csv')\n",
    "d1d2 = pd.read_csv('/Users/AngelaTam/Downloads/tadpole_challenge/TADPOLE_D1_D2.csv')"
   ]
  },
  {
   "cell_type": "code",
   "execution_count": null,
   "metadata": {
    "collapsed": true
   },
   "outputs": [],
   "source": [
    "full_df.drop(full_df.columns[0],axis=1,inplace=True)"
   ]
  },
  {
   "cell_type": "code",
   "execution_count": 253,
   "metadata": {
    "collapsed": true
   },
   "outputs": [],
   "source": [
    "missing_ids = [x for x in ref_df.RID.unique() if any([not pd.notnull(y) for y in ref_df[ref_df.RID==x]['y_DX']])]\n",
    "for i,sub in enumerate(missing_ids):\n",
    "    jnk = ref_df[ref_df.RID==sub]['y_DX'].fillna(method='ffill')\n",
    "    ref_df.loc[ref_df.RID==sub,'y_DX'] = jnk.values"
   ]
  },
  {
   "cell_type": "code",
   "execution_count": 254,
   "metadata": {
    "collapsed": true
   },
   "outputs": [],
   "source": [
    "full_df = full_df.loc[ref_df.dropna().index].reset_index(drop=True)\n",
    "ref_df = ref_df.loc[ref_df.dropna().index].reset_index(drop=True)"
   ]
  },
  {
   "cell_type": "code",
   "execution_count": null,
   "metadata": {
    "collapsed": true
   },
   "outputs": [],
   "source": [
    "code = {1: 0, 2:1, 3:2}\n",
    "ref_df['y_DX'] = [code[x] for x in ref_df['y_DX']]"
   ]
  },
  {
   "cell_type": "code",
   "execution_count": 256,
   "metadata": {
    "collapsed": true
   },
   "outputs": [],
   "source": [
    "full_df['RID'] = ref_df['RID']\n",
    "full_df['VISCODE'] = ref_df['VISCODE']\n",
    "full_df['COLPROT'] = ref_df['COLPROT']\n",
    "full_df['EXAMDATE'] = ref_df['EXAMDATE']\n",
    "full_df['Month_bl'] = d1d2['Month_bl']"
   ]
  },
  {
   "cell_type": "code",
   "execution_count": 257,
   "metadata": {
    "collapsed": false,
    "scrolled": true
   },
   "outputs": [
    {
     "name": "stderr",
     "output_type": "stream",
     "text": [
      "/Users/AngelaTam/anaconda3/lib/python3.5/site-packages/ipykernel/__main__.py:8: SettingWithCopyWarning: \n",
      "A value is trying to be set on a copy of a slice from a DataFrame.\n",
      "Try using .loc[row_indexer,col_indexer] = value instead\n",
      "\n",
      "See the caveats in the documentation: http://pandas.pydata.org/pandas-docs/stable/indexing.html#indexing-view-versus-copy\n"
     ]
    }
   ],
   "source": [
    "data = full_df\n",
    "\n",
    "target = ref_df[['y_DX','y_ADAS13','y_Ventricles_adj_TIV']]\n",
    "#target = target.dropna(axis=0)\n",
    "#data = data.loc[target.index]\n",
    "#data = data.dropna(axis=1)\n",
    "#target = target.loc[data.index]\n",
    "target['Month_bl'] = data['Month_bl']\n",
    "target = target[['Month_bl','y_DX','y_ADAS13','y_Ventricles_adj_TIV']]"
   ]
  },
  {
   "cell_type": "code",
   "execution_count": 258,
   "metadata": {
    "collapsed": true
   },
   "outputs": [],
   "source": [
    "for col in target.columns[1:]:\n",
    "    data[col] = target[col]"
   ]
  },
  {
   "cell_type": "code",
   "execution_count": 260,
   "metadata": {
    "collapsed": false
   },
   "outputs": [],
   "source": [
    "#selection = data.iloc[sel_index][['RID','Month_bl']]"
   ]
  },
  {
   "cell_type": "code",
   "execution_count": 261,
   "metadata": {
    "collapsed": false
   },
   "outputs": [],
   "source": [
    "\n",
    "def compute_data_table(sel_index):\n",
    "    x_ = []\n",
    "    y_ = []\n",
    "    selection = data.iloc[sel_index][['RID','Month_bl']]\n",
    "    for i in range(selection.shape[0]):\n",
    "        rid, vis_month = selection.iloc[i].values\n",
    "        #print(rid,vis_month)\n",
    "        mask = (data[data['RID']==rid]['Month_bl']>vis_month).values\n",
    "\n",
    "        valid_data = data[data['RID']==rid][mask]\n",
    "        target_ = target[data['RID']==rid][mask]\n",
    "        \n",
    "        #print(mask)\n",
    "        if valid_data.shape[0]>0:\n",
    "            # add to x \n",
    "            x_.append(data.iloc[sel_index[i]].drop(['VISCODE','EXAMDATE','COLPROT','Month_bl']).values)\n",
    "            # add to y\n",
    "            target_ = target_.values\n",
    "            target_[:,0] = target_[:,0]-vis_month\n",
    "            #print(target_)\n",
    "            \n",
    "            y_.append(target_)\n",
    "            \n",
    "    return x_,y_\n",
    " \n"
   ]
  },
  {
   "cell_type": "code",
   "execution_count": 262,
   "metadata": {
    "collapsed": false
   },
   "outputs": [],
   "source": [
    "sel_index = data.index\n",
    "x_,y_ = compute_data_table(sel_index) "
   ]
  }
 ],
 "metadata": {
  "anaconda-cloud": {},
  "kernelspec": {
   "display_name": "Python [conda root]",
   "language": "python",
   "name": "conda-root-py"
  },
  "language_info": {
   "codemirror_mode": {
    "name": "ipython",
    "version": 3
   },
   "file_extension": ".py",
   "mimetype": "text/x-python",
   "name": "python",
   "nbconvert_exporter": "python",
   "pygments_lexer": "ipython3",
   "version": "3.5.2"
  }
 },
 "nbformat": 4,
 "nbformat_minor": 1
}
