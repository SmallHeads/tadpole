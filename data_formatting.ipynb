{
 "cells": [
  {
   "cell_type": "code",
   "execution_count": 1,
   "metadata": {
    "collapsed": false
   },
   "outputs": [
    {
     "name": "stderr",
     "output_type": "stream",
     "text": [
      "Using TensorFlow backend.\n"
     ]
    }
   ],
   "source": [
    "import sys\n",
    "import pandas as pd\n",
    "import numpy as np\n",
    "sys.path.insert(0,'/Users/jakevogel/git/small_heads/TADPOLE/tadpole/')\n",
    "import train as tr\n",
    "from importlib import reload"
   ]
  },
  {
   "cell_type": "code",
   "execution_count": 45,
   "metadata": {
    "collapsed": false
   },
   "outputs": [
    {
     "data": {
      "text/plain": [
       "<module 'train' from '/Users/jakevogel/git/small_heads/TADPOLE/tadpole/train.py'>"
      ]
     },
     "execution_count": 45,
     "metadata": {},
     "output_type": "execute_result"
    }
   ],
   "source": [
    "#reload(tr)"
   ]
  },
  {
   "cell_type": "code",
   "execution_count": 2,
   "metadata": {
    "collapsed": true
   },
   "outputs": [],
   "source": [
    "tr.compute_data_table?"
   ]
  },
  {
   "cell_type": "code",
   "execution_count": 4,
   "metadata": {
    "collapsed": false
   },
   "outputs": [
    {
     "name": "stderr",
     "output_type": "stream",
     "text": [
      "//anaconda/envs/py3/lib/python3.5/site-packages/IPython/core/interactiveshell.py:2717: DtypeWarning: Columns (471,473,474,487,488,489,490,491,492,493,494,495,496,497,498,499,500,501,502,503,504,505,506,507,508,509,510,511,512,513,514,515,516,517,518,519,520,521,522,523,524,525,526,527,528,529,530,531,532,533,534,535,536,537,538,539,540,541,542,543,544,545,546,547,548,549,550,551,552,553,554,555,556,557,558,559,560,561,562,563,569,570,572,573,574,575,576,577,578,579,580,581,582,583,584,585,586,587,588,589,590,591,592,593,594,595,596,597,599,601,606,607,608,609,610,611,612,613,614,615,616,617,618,619,620,621,624,625,626,627,628,629,630,631,632,633,634,636,637,638,639,640,641,642,643,644,645,646,647,648,649,650,651,652,653,654,655,656,657,658,659,660,661,663,664,665,666,667,668,669,670,671,672,673,674,675,676,677,678,679,680,681,682,683,684,685,686,687,688,689,690,691,692,693,694,695,696,697,698,699,700,701,702,703,704,705,706,707,708,709,710,711,712,713,714,715,716,717,718,719,720,721,722,723,724,725,726,727,728,729,730,731,732,733,734,735,736,737,738,739,745,746,748,749,750,751,752,753,754,755,756,757,758,759,760,761,762,763,764,765,766,767,770,771,776,777,778,779,780,781,782,783,784,785,786,787,788,789,790,791,794,795,797,798,799,800,801,802,803,804,806,807,808,809,810,811,812,813,814,815,816,817,818,819,820,821,822,823,824,825,826,827,828,829,830,831) have mixed types. Specify dtype option on import or set low_memory=False.\n",
      "  interactivity=interactivity, compiler=compiler, result=result)\n"
     ]
    }
   ],
   "source": [
    "full_df = pd.read_csv('/Users/jakevogel/Science/TADPOLE/inputed50_cleaned.csv')\n",
    "ref_df = pd.read_csv('/Users/jakevogel/Science/TADPOLE/inputed50_ref.csv')\n",
    "d1d2 = pd.read_csv('/Users/jakevogel/Science/TADPOLE/TADPOLE_D1_D2.csv')"
   ]
  },
  {
   "cell_type": "code",
   "execution_count": 73,
   "metadata": {
    "collapsed": false
   },
   "outputs": [
    {
     "data": {
      "text/plain": [
       "(12741, 374)"
      ]
     },
     "execution_count": 73,
     "metadata": {},
     "output_type": "execute_result"
    }
   ],
   "source": [
    "full_df.shape"
   ]
  },
  {
   "cell_type": "code",
   "execution_count": 5,
   "metadata": {
    "collapsed": true
   },
   "outputs": [],
   "source": [
    "full_df.drop(full_df.columns[0],axis=1,inplace=True)"
   ]
  },
  {
   "cell_type": "code",
   "execution_count": 75,
   "metadata": {
    "collapsed": false
   },
   "outputs": [
    {
     "data": {
      "text/plain": [
       "(12741, 373)"
      ]
     },
     "execution_count": 75,
     "metadata": {},
     "output_type": "execute_result"
    }
   ],
   "source": [
    "full_df.shape"
   ]
  },
  {
   "cell_type": "code",
   "execution_count": 6,
   "metadata": {
    "collapsed": true
   },
   "outputs": [],
   "source": [
    "full_df['RID'] = ref_df['RID']\n",
    "full_df['VISCODE'] = ref_df['VISCODE']\n",
    "full_df['COLPROT'] = ref_df['COLPROT']\n",
    "full_df['EXAMDATE'] = ref_df['EXAMDATE']\n",
    "full_df['Month_bl'] = d1d2['Month_bl']"
   ]
  },
  {
   "cell_type": "code",
   "execution_count": 7,
   "metadata": {
    "collapsed": false,
    "scrolled": true
   },
   "outputs": [
    {
     "name": "stderr",
     "output_type": "stream",
     "text": [
      "//anaconda/envs/py3/lib/python3.5/site-packages/ipykernel/__main__.py:8: SettingWithCopyWarning: \n",
      "A value is trying to be set on a copy of a slice from a DataFrame.\n",
      "Try using .loc[row_indexer,col_indexer] = value instead\n",
      "\n",
      "See the caveats in the documentation: http://pandas.pydata.org/pandas-docs/stable/indexing.html#indexing-view-versus-copy\n"
     ]
    }
   ],
   "source": [
    "data = full_df\n",
    "\n",
    "target = ref_df[['y_DX','y_ADAS13','y_Ventricles_adj_TIV']]\n",
    "#target = target.dropna(axis=0)\n",
    "#data = data.loc[target.index]\n",
    "#data = data.dropna(axis=1)\n",
    "#target = target.loc[data.index]\n",
    "target['Month_bl'] = data['Month_bl']\n",
    "target = target[['Month_bl','y_DX','y_ADAS13','y_Ventricles_adj_TIV']]"
   ]
  },
  {
   "cell_type": "code",
   "execution_count": 8,
   "metadata": {
    "collapsed": true
   },
   "outputs": [],
   "source": [
    "for col in target.columns[1:]:\n",
    "    data[col] = target[col]"
   ]
  },
  {
   "cell_type": "code",
   "execution_count": 10,
   "metadata": {
    "collapsed": false
   },
   "outputs": [],
   "source": [
    "\n",
    "def compute_data_table(sel_index):\n",
    "    x_ = []\n",
    "    y_ = []\n",
    "    rids = []\n",
    "    selection = data.iloc[sel_index][['RID','Month_bl']]\n",
    "    for i in range(selection.shape[0]):\n",
    "        rid, vis_month = selection.iloc[i].values\n",
    "        #print(rid,vis_month)\n",
    "        mask = (data[data['RID']==rid]['Month_bl']>vis_month).values\n",
    "\n",
    "        valid_data = data[data['RID']==rid][mask]\n",
    "        target_ = target[data['RID']==rid][mask]\n",
    "        \n",
    "        #print(mask)\n",
    "        if valid_data.shape[0]>0:\n",
    "            # add to x \n",
    "            x_.append(data.iloc[sel_index[i]].drop(['VISCODE','EXAMDATE','COLPROT','Month_bl']).values)\n",
    "            # add to y\n",
    "            target_ = target_.values\n",
    "            target_[:,0] = target_[:,0]-vis_month\n",
    "            #print(target_)\n",
    "            \n",
    "            y_.append(target_)\n",
    "            rids.append(rid)\n",
    "    return x_,y_,rids\n",
    " \n"
   ]
  },
  {
   "cell_type": "code",
   "execution_count": 70,
   "metadata": {
    "collapsed": false
   },
   "outputs": [
    {
     "data": {
      "text/plain": [
       "(12741, 377)"
      ]
     },
     "execution_count": 70,
     "metadata": {},
     "output_type": "execute_result"
    }
   ],
   "source": [
    "data.shape"
   ]
  },
  {
   "cell_type": "code",
   "execution_count": 53,
   "metadata": {
    "collapsed": false
   },
   "outputs": [
    {
     "data": {
      "text/plain": [
       "11002"
      ]
     },
     "execution_count": 53,
     "metadata": {},
     "output_type": "execute_result"
    }
   ],
   "source": [
    "len(rids)\n",
    "len(x_)"
   ]
  },
  {
   "cell_type": "code",
   "execution_count": 33,
   "metadata": {
    "collapsed": false
   },
   "outputs": [
    {
     "data": {
      "text/plain": [
       "0          0.00000\n",
       "5723       5.86885\n",
       "5724      35.54100\n",
       "5725      60.32790\n",
       "5726      65.67210\n",
       "5727      72.19670\n",
       "5728      78.26230\n",
       "5729      84.42620\n",
       "5730      90.32790\n",
       "5731      95.83610\n",
       "10836    102.03300\n",
       "11571    108.91800\n",
       "11959    120.19700\n",
       "Name: Month_bl, dtype: float64"
      ]
     },
     "execution_count": 33,
     "metadata": {},
     "output_type": "execute_result"
    }
   ],
   "source": [
    "data[data.RID==2]['Month_bl']"
   ]
  },
  {
   "cell_type": "code",
   "execution_count": null,
   "metadata": {
    "collapsed": true
   },
   "outputs": [],
   "source": [
    "108-"
   ]
  },
  {
   "cell_type": "code",
   "execution_count": 32,
   "metadata": {
    "collapsed": false
   },
   "outputs": [
    {
     "data": {
      "text/plain": [
       "Int64Index([0, 5723, 5724, 5725, 5726, 5727, 5728, 5729, 5730, 5731, 10836,\n",
       "            11571, 11959],\n",
       "           dtype='int64')"
      ]
     },
     "execution_count": 32,
     "metadata": {},
     "output_type": "execute_result"
    }
   ],
   "source": [
    "data[data.RID==2].index"
   ]
  },
  {
   "cell_type": "code",
   "execution_count": null,
   "metadata": {
    "collapsed": true
   },
   "outputs": [],
   "source": [
    "[0, 5291, 5292, 5293, 5294, 5295, 5296, 5297, 5298, 5299, 9706, 10510]"
   ]
  },
  {
   "cell_type": "code",
   "execution_count": 11,
   "metadata": {
    "collapsed": false
   },
   "outputs": [],
   "source": [
    "sel_index = data.index\n",
    "x_,y_, rids = compute_data_table(sel_index) "
   ]
  },
  {
   "cell_type": "code",
   "execution_count": 14,
   "metadata": {
    "collapsed": false
   },
   "outputs": [
    {
     "data": {
      "text/plain": [
       "array([ 5.86885   ,  1.        ,  0.18433181,  1.00739018])"
      ]
     },
     "execution_count": 14,
     "metadata": {},
     "output_type": "execute_result"
    }
   ],
   "source": [
    "y_[0][0]"
   ]
  },
  {
   "cell_type": "code",
   "execution_count": 2,
   "metadata": {
    "collapsed": false
   },
   "outputs": [
    {
     "name": "stderr",
     "output_type": "stream",
     "text": [
      "//anaconda/envs/py3/lib/python3.5/site-packages/IPython/core/interactiveshell.py:2821: DtypeWarning: Columns (471,473,474,487,488,489,490,491,492,493,494,495,496,497,498,499,500,501,502,503,504,505,506,507,508,509,510,511,512,513,514,515,516,517,518,519,520,521,522,523,524,525,526,527,528,529,530,531,532,533,534,535,536,537,538,539,540,541,542,543,544,545,546,547,548,549,550,551,552,553,554,555,556,557,558,559,560,561,562,563,569,570,572,573,574,575,576,577,578,579,580,581,582,583,584,585,586,587,588,589,590,591,592,593,594,595,596,597,599,601,606,607,608,609,610,611,612,613,614,615,616,617,618,619,620,621,624,625,626,627,628,629,630,631,632,633,634,636,637,638,639,640,641,642,643,644,645,646,647,648,649,650,651,652,653,654,655,656,657,658,659,660,661,663,664,665,666,667,668,669,670,671,672,673,674,675,676,677,678,679,680,681,682,683,684,685,686,687,688,689,690,691,692,693,694,695,696,697,698,699,700,701,702,703,704,705,706,707,708,709,710,711,712,713,714,715,716,717,718,719,720,721,722,723,724,725,726,727,728,729,730,731,732,733,734,735,736,737,738,739,745,746,748,749,750,751,752,753,754,755,756,757,758,759,760,761,762,763,764,765,766,767,770,771,776,777,778,779,780,781,782,783,784,785,786,787,788,789,790,791,794,795,797,798,799,800,801,802,803,804,806,807,808,809,810,811,812,813,814,815,816,817,818,819,820,821,822,823,824,825,826,827,828,829,830,831) have mixed types. Specify dtype option on import or set low_memory=False.\n",
      "  if self.run_code(code, result):\n",
      "/Users/jakevogel/git/small_heads/TADPOLE/tadpole/data_formatting.py:38: SettingWithCopyWarning: \n",
      "A value is trying to be set on a copy of a slice from a DataFrame.\n",
      "Try using .loc[row_indexer,col_indexer] = value instead\n",
      "\n",
      "See the caveats in the documentation: http://pandas.pydata.org/pandas-docs/stable/indexing.html#indexing-view-versus-copy\n",
      "  target['Month_bl'] = data['Month_bl']\n"
     ]
    }
   ],
   "source": [
    "j1,j2,j3 = tr.compute_data_table(False,'/Users/jakevogel/Science/TADPOLE/')"
   ]
  },
  {
   "cell_type": "code",
   "execution_count": 3,
   "metadata": {
    "collapsed": false
   },
   "outputs": [
    {
     "ename": "NameError",
     "evalue": "name 'y_' is not defined",
     "output_type": "error",
     "traceback": [
      "\u001b[0;31m---------------------------------------------------------------------------\u001b[0m",
      "\u001b[0;31mNameError\u001b[0m                                 Traceback (most recent call last)",
      "\u001b[0;32m<ipython-input-3-d34fb8ff84d8>\u001b[0m in \u001b[0;36m<module>\u001b[0;34m()\u001b[0m\n\u001b[0;32m----> 1\u001b[0;31m \u001b[0mnp\u001b[0m\u001b[0;34m.\u001b[0m\u001b[0marray\u001b[0m\u001b[0;34m(\u001b[0m\u001b[0my_\u001b[0m\u001b[0;34m)\u001b[0m\u001b[0;34m[\u001b[0m\u001b[0;34m[\u001b[0m\u001b[0mx\u001b[0m \u001b[0;32mfor\u001b[0m \u001b[0mx\u001b[0m \u001b[0;32min\u001b[0m \u001b[0mrange\u001b[0m\u001b[0;34m(\u001b[0m\u001b[0mlen\u001b[0m\u001b[0;34m(\u001b[0m\u001b[0mrids\u001b[0m\u001b[0;34m)\u001b[0m\u001b[0;34m)\u001b[0m \u001b[0;32mif\u001b[0m \u001b[0mrids\u001b[0m\u001b[0;34m[\u001b[0m\u001b[0mx\u001b[0m\u001b[0;34m]\u001b[0m \u001b[0;34m==\u001b[0m \u001b[0;36m2\u001b[0m\u001b[0;34m]\u001b[0m\u001b[0;34m]\u001b[0m\u001b[0;34m[\u001b[0m\u001b[0;36m0\u001b[0m\u001b[0;34m]\u001b[0m\u001b[0;34m\u001b[0m\u001b[0m\n\u001b[0m",
      "\u001b[0;31mNameError\u001b[0m: name 'y_' is not defined"
     ]
    }
   ],
   "source": [
    "np.array(j2)[[x for x in range(len(rids)) if rids[x] == 2]][0]"
   ]
  },
  {
   "cell_type": "code",
   "execution_count": 13,
   "metadata": {
    "collapsed": false
   },
   "outputs": [
    {
     "data": {
      "text/plain": [
       "array([[  5.86885000e+00,   1.00000000e+00,   1.84331811e-01,\n",
       "          1.00739018e+00],\n",
       "       [  3.55410000e+01,   1.00000000e+00,   2.12544402e-01,\n",
       "          8.63873946e-01],\n",
       "       [  6.03279000e+01,   1.00000000e+00,   4.69022498e-01,\n",
       "          9.57802772e-01],\n",
       "       [  6.56721000e+01,              nan,   3.50432648e-01,\n",
       "          9.00127795e-01],\n",
       "       [  7.21967000e+01,   1.00000000e+00,   2.98037101e-01,\n",
       "          1.05179680e+00],\n",
       "       [  7.82623000e+01,              nan,   2.94039049e-02,\n",
       "          9.72556824e-01],\n",
       "       [  8.44262000e+01,   2.00000000e+00,  -3.00411790e-01,\n",
       "          9.13991348e-01],\n",
       "       [  9.03279000e+01,              nan,  -8.72097882e-02,\n",
       "          1.17986399e+00],\n",
       "       [  9.58361000e+01,   1.00000000e+00,   4.15590046e-02,\n",
       "          1.46498029e+00],\n",
       "       [  1.02033000e+02,              nan,   3.30877771e-02,\n",
       "          1.22473341e+00],\n",
       "       [  1.08918000e+02,              nan,   5.35343018e-02,\n",
       "          1.29214608e+00],\n",
       "       [  1.20197000e+02,   1.00000000e+00,   1.27051703e-01,\n",
       "          1.24907142e+00]])"
      ]
     },
     "execution_count": 13,
     "metadata": {},
     "output_type": "execute_result"
    }
   ],
   "source": [
    "np.array(y_)[[x for x in range(len(rids)) if rids[x] == 2]][0]"
   ]
  },
  {
   "cell_type": "code",
   "execution_count": 4,
   "metadata": {
    "collapsed": false
   },
   "outputs": [
    {
     "data": {
      "text/plain": [
       "[0, 5309, 5310, 5311, 5312, 5313, 5314, 5315, 5316, 5317, 9924, 10515]"
      ]
     },
     "execution_count": 4,
     "metadata": {},
     "output_type": "execute_result"
    }
   ],
   "source": [
    "[x for x in range(len(j3)) if j3[x] == 2]"
   ]
  },
  {
   "cell_type": "code",
   "execution_count": 56,
   "metadata": {
    "collapsed": false
   },
   "outputs": [
    {
     "data": {
      "text/plain": [
       "[0, 5405, 5406, 5407, 5408, 5409, 5410, 5411, 5412, 5413, 10023, 10614]"
      ]
     },
     "execution_count": 56,
     "metadata": {},
     "output_type": "execute_result"
    }
   ],
   "source": [
    "[x for x in range(len(rids)) if rids[x] == 2]"
   ]
  },
  {
   "cell_type": "code",
   "execution_count": 69,
   "metadata": {
    "collapsed": false
   },
   "outputs": [
    {
     "data": {
      "text/plain": [
       "10898"
      ]
     },
     "execution_count": 69,
     "metadata": {},
     "output_type": "execute_result"
    }
   ],
   "source": [
    "len(j3)"
   ]
  },
  {
   "cell_type": "code",
   "execution_count": 37,
   "metadata": {
    "collapsed": false
   },
   "outputs": [
    {
     "data": {
      "text/plain": [
       "array([[  5.86885000e+00,   1.00000000e+00,   1.84331811e-01,\n",
       "          1.00739018e+00],\n",
       "       [  3.55410000e+01,   1.00000000e+00,   2.12544402e-01,\n",
       "          8.63873946e-01],\n",
       "       [  6.03279000e+01,   1.00000000e+00,   4.69022498e-01,\n",
       "          9.57802772e-01],\n",
       "       [  6.56721000e+01,              nan,   3.50432648e-01,\n",
       "          9.00127795e-01],\n",
       "       [  7.21967000e+01,   1.00000000e+00,   2.98037101e-01,\n",
       "          1.05179680e+00],\n",
       "       [  7.82623000e+01,              nan,   2.94039049e-02,\n",
       "          9.72556824e-01],\n",
       "       [  8.44262000e+01,   2.00000000e+00,  -3.00411790e-01,\n",
       "          9.13991348e-01],\n",
       "       [  9.03279000e+01,              nan,  -8.72097882e-02,\n",
       "          1.17986399e+00],\n",
       "       [  9.58361000e+01,   1.00000000e+00,   4.15590046e-02,\n",
       "          1.46498029e+00],\n",
       "       [  1.02033000e+02,              nan,   3.30877771e-02,\n",
       "          1.22473341e+00],\n",
       "       [  1.08918000e+02,              nan,   5.35343018e-02,\n",
       "          1.29214608e+00],\n",
       "       [  1.20197000e+02,   1.00000000e+00,   1.27051703e-01,\n",
       "          1.24907142e+00]])"
      ]
     },
     "execution_count": 37,
     "metadata": {},
     "output_type": "execute_result"
    }
   ],
   "source": [
    "np.array(y_)[[0, 5291, 5292, 5293, 5294, 5295, 5296, 5297, 5298, 5299, 9706, 10510]][0]"
   ]
  },
  {
   "cell_type": "code",
   "execution_count": 7,
   "metadata": {
    "collapsed": false
   },
   "outputs": [
    {
     "data": {
      "text/plain": [
       "array([[  5.86885000e+00,   0.00000000e+00,   1.84331811e-01,\n",
       "          1.00739018e+00],\n",
       "       [  3.55410000e+01,   0.00000000e+00,   2.12544402e-01,\n",
       "          8.63873946e-01],\n",
       "       [  6.03279000e+01,   0.00000000e+00,   4.69022498e-01,\n",
       "          9.57802772e-01],\n",
       "       [  6.56721000e+01,   0.00000000e+00,   3.50432648e-01,\n",
       "          9.00127795e-01],\n",
       "       [  7.21967000e+01,   0.00000000e+00,   2.98037101e-01,\n",
       "          1.05179680e+00],\n",
       "       [  7.82623000e+01,   0.00000000e+00,   2.94039049e-02,\n",
       "          9.72556824e-01],\n",
       "       [  8.44262000e+01,   1.00000000e+00,  -3.00411790e-01,\n",
       "          9.13991348e-01],\n",
       "       [  9.03279000e+01,   1.00000000e+00,  -8.72097882e-02,\n",
       "          1.17986399e+00],\n",
       "       [  9.58361000e+01,   0.00000000e+00,   4.15590046e-02,\n",
       "          1.46498029e+00],\n",
       "       [  1.02033000e+02,   0.00000000e+00,   3.30877771e-02,\n",
       "          1.22473341e+00],\n",
       "       [  1.08918000e+02,   0.00000000e+00,   5.35343018e-02,\n",
       "          1.29214608e+00],\n",
       "       [  1.20197000e+02,   0.00000000e+00,   1.27051703e-01,\n",
       "          1.24907142e+00]])"
      ]
     },
     "execution_count": 7,
     "metadata": {},
     "output_type": "execute_result"
    }
   ],
   "source": [
    "np.array(j2)[[x for x in range(len(j3)) if j3[x] == 2]][0]"
   ]
  },
  {
   "cell_type": "code",
   "execution_count": 44,
   "metadata": {
    "collapsed": false
   },
   "outputs": [
    {
     "data": {
      "text/plain": [
       "array([[  5.77049000e+00,   0.00000000e+00,   1.84331811e-01,\n",
       "          1.00739018e+00],\n",
       "       [  1.26230000e+01,   0.00000000e+00,   4.69022498e-01,\n",
       "          9.57802772e-01],\n",
       "       [  1.20984000e+01,   0.00000000e+00,   3.50432648e-01,\n",
       "          9.00127795e-01],\n",
       "       [  7.60656000e+00,   0.00000000e+00,   2.98037101e-01,\n",
       "          1.05179680e+00],\n",
       "       [  1.31148000e+01,   0.00000000e+00,   2.94039049e-02,\n",
       "          9.72556824e-01],\n",
       "       [  2.55738000e+00,   1.00000000e+00,  -3.00411790e-01,\n",
       "          9.13991348e-01],\n",
       "       [  1.16393000e+01,   1.00000000e+00,  -8.72097882e-02,\n",
       "          1.17986399e+00],\n",
       "       [  1.21639000e+01,   0.00000000e+00,   4.15590046e-02,\n",
       "          1.46498029e+00],\n",
       "       [  5.67213000e+00,   0.00000000e+00,   3.30877771e-02,\n",
       "          1.22473341e+00],\n",
       "       [  9.60000000e+01,   0.00000000e+00,   5.35343018e-02,\n",
       "          1.29214608e+00],\n",
       "       [  6.06885000e+01,   0.00000000e+00,   1.27051703e-01,\n",
       "          1.24907142e+00]])"
      ]
     },
     "execution_count": 44,
     "metadata": {},
     "output_type": "execute_result"
    }
   ],
   "source": [
    "np.array(j2)[[0, 5405, 5406, 5407, 5408, 5409, 5410, 5411, 5412, 5413, 10023, 10614]][0]"
   ]
  },
  {
   "cell_type": "code",
   "execution_count": null,
   "metadata": {
    "collapsed": true
   },
   "outputs": [],
   "source": [
    "j1,j2,j3 = tr.compute_data_table"
   ]
  },
  {
   "cell_type": "code",
   "execution_count": 35,
   "metadata": {
    "collapsed": false
   },
   "outputs": [
    {
     "data": {
      "text/plain": [
       "[array([[  5.86885000e+00,   1.00000000e+00,   1.84331811e-01,\n",
       "           1.00739018e+00],\n",
       "        [  3.55410000e+01,   1.00000000e+00,   2.12544402e-01,\n",
       "           8.63873946e-01],\n",
       "        [  6.03279000e+01,   1.00000000e+00,   4.69022498e-01,\n",
       "           9.57802772e-01],\n",
       "        [  6.56721000e+01,              nan,   3.50432648e-01,\n",
       "           9.00127795e-01],\n",
       "        [  7.21967000e+01,   1.00000000e+00,   2.98037101e-01,\n",
       "           1.05179680e+00],\n",
       "        [  7.82623000e+01,              nan,   2.94039049e-02,\n",
       "           9.72556824e-01],\n",
       "        [  8.44262000e+01,   2.00000000e+00,  -3.00411790e-01,\n",
       "           9.13991348e-01],\n",
       "        [  9.03279000e+01,              nan,  -8.72097882e-02,\n",
       "           1.17986399e+00],\n",
       "        [  9.58361000e+01,   1.00000000e+00,   4.15590046e-02,\n",
       "           1.46498029e+00],\n",
       "        [  1.02033000e+02,              nan,   3.30877771e-02,\n",
       "           1.22473341e+00],\n",
       "        [  1.08918000e+02,              nan,   5.35343018e-02,\n",
       "           1.29214608e+00],\n",
       "        [  1.20197000e+02,   1.00000000e+00,   1.27051703e-01,\n",
       "           1.24907142e+00]]),\n",
       " array([[  2.96721500e+01,   1.00000000e+00,   2.12544402e-01,\n",
       "           8.63873946e-01],\n",
       "        [  5.44590500e+01,   1.00000000e+00,   4.69022498e-01,\n",
       "           9.57802772e-01],\n",
       "        [  5.98032500e+01,              nan,   3.50432648e-01,\n",
       "           9.00127795e-01],\n",
       "        [  6.63278500e+01,   1.00000000e+00,   2.98037101e-01,\n",
       "           1.05179680e+00],\n",
       "        [  7.23934500e+01,              nan,   2.94039049e-02,\n",
       "           9.72556824e-01],\n",
       "        [  7.85573500e+01,   2.00000000e+00,  -3.00411790e-01,\n",
       "           9.13991348e-01],\n",
       "        [  8.44590500e+01,              nan,  -8.72097882e-02,\n",
       "           1.17986399e+00],\n",
       "        [  8.99672500e+01,   1.00000000e+00,   4.15590046e-02,\n",
       "           1.46498029e+00],\n",
       "        [  9.61641500e+01,              nan,   3.30877771e-02,\n",
       "           1.22473341e+00],\n",
       "        [  1.03049150e+02,              nan,   5.35343018e-02,\n",
       "           1.29214608e+00],\n",
       "        [  1.14328150e+02,   1.00000000e+00,   1.27051703e-01,\n",
       "           1.24907142e+00]]),\n",
       " array([[  2.47869000e+01,   1.00000000e+00,   4.69022498e-01,\n",
       "           9.57802772e-01],\n",
       "        [  3.01311000e+01,              nan,   3.50432648e-01,\n",
       "           9.00127795e-01],\n",
       "        [  3.66557000e+01,   1.00000000e+00,   2.98037101e-01,\n",
       "           1.05179680e+00],\n",
       "        [  4.27213000e+01,              nan,   2.94039049e-02,\n",
       "           9.72556824e-01],\n",
       "        [  4.88852000e+01,   2.00000000e+00,  -3.00411790e-01,\n",
       "           9.13991348e-01],\n",
       "        [  5.47869000e+01,              nan,  -8.72097882e-02,\n",
       "           1.17986399e+00],\n",
       "        [  6.02951000e+01,   1.00000000e+00,   4.15590046e-02,\n",
       "           1.46498029e+00],\n",
       "        [  6.64920000e+01,              nan,   3.30877771e-02,\n",
       "           1.22473341e+00],\n",
       "        [  7.33770000e+01,              nan,   5.35343018e-02,\n",
       "           1.29214608e+00],\n",
       "        [  8.46560000e+01,   1.00000000e+00,   1.27051703e-01,\n",
       "           1.24907142e+00]]),\n",
       " array([[  5.34420000e+00,              nan,   3.50432648e-01,\n",
       "           9.00127795e-01],\n",
       "        [  1.18688000e+01,   1.00000000e+00,   2.98037101e-01,\n",
       "           1.05179680e+00],\n",
       "        [  1.79344000e+01,              nan,   2.94039049e-02,\n",
       "           9.72556824e-01],\n",
       "        [  2.40983000e+01,   2.00000000e+00,  -3.00411790e-01,\n",
       "           9.13991348e-01],\n",
       "        [  3.00000000e+01,              nan,  -8.72097882e-02,\n",
       "           1.17986399e+00],\n",
       "        [  3.55082000e+01,   1.00000000e+00,   4.15590046e-02,\n",
       "           1.46498029e+00],\n",
       "        [  4.17051000e+01,              nan,   3.30877771e-02,\n",
       "           1.22473341e+00],\n",
       "        [  4.85901000e+01,              nan,   5.35343018e-02,\n",
       "           1.29214608e+00],\n",
       "        [  5.98691000e+01,   1.00000000e+00,   1.27051703e-01,\n",
       "           1.24907142e+00]]),\n",
       " array([[  6.52460000e+00,   1.00000000e+00,   2.98037101e-01,\n",
       "           1.05179680e+00],\n",
       "        [  1.25902000e+01,              nan,   2.94039049e-02,\n",
       "           9.72556824e-01],\n",
       "        [  1.87541000e+01,   2.00000000e+00,  -3.00411790e-01,\n",
       "           9.13991348e-01],\n",
       "        [  2.46558000e+01,              nan,  -8.72097882e-02,\n",
       "           1.17986399e+00],\n",
       "        [  3.01640000e+01,   1.00000000e+00,   4.15590046e-02,\n",
       "           1.46498029e+00],\n",
       "        [  3.63609000e+01,              nan,   3.30877771e-02,\n",
       "           1.22473341e+00],\n",
       "        [  4.32459000e+01,              nan,   5.35343018e-02,\n",
       "           1.29214608e+00],\n",
       "        [  5.45249000e+01,   1.00000000e+00,   1.27051703e-01,\n",
       "           1.24907142e+00]]),\n",
       " array([[  6.06560000e+00,              nan,   2.94039049e-02,\n",
       "           9.72556824e-01],\n",
       "        [  1.22295000e+01,   2.00000000e+00,  -3.00411790e-01,\n",
       "           9.13991348e-01],\n",
       "        [  1.81312000e+01,              nan,  -8.72097882e-02,\n",
       "           1.17986399e+00],\n",
       "        [  2.36394000e+01,   1.00000000e+00,   4.15590046e-02,\n",
       "           1.46498029e+00],\n",
       "        [  2.98363000e+01,              nan,   3.30877771e-02,\n",
       "           1.22473341e+00],\n",
       "        [  3.67213000e+01,              nan,   5.35343018e-02,\n",
       "           1.29214608e+00],\n",
       "        [  4.80003000e+01,   1.00000000e+00,   1.27051703e-01,\n",
       "           1.24907142e+00]]),\n",
       " array([[  6.16390000e+00,   2.00000000e+00,  -3.00411790e-01,\n",
       "           9.13991348e-01],\n",
       "        [  1.20656000e+01,              nan,  -8.72097882e-02,\n",
       "           1.17986399e+00],\n",
       "        [  1.75738000e+01,   1.00000000e+00,   4.15590046e-02,\n",
       "           1.46498029e+00],\n",
       "        [  2.37707000e+01,              nan,   3.30877771e-02,\n",
       "           1.22473341e+00],\n",
       "        [  3.06557000e+01,              nan,   5.35343018e-02,\n",
       "           1.29214608e+00],\n",
       "        [  4.19347000e+01,   1.00000000e+00,   1.27051703e-01,\n",
       "           1.24907142e+00]]),\n",
       " array([[  5.90170000e+00,              nan,  -8.72097882e-02,\n",
       "           1.17986399e+00],\n",
       "        [  1.14099000e+01,   1.00000000e+00,   4.15590046e-02,\n",
       "           1.46498029e+00],\n",
       "        [  1.76068000e+01,              nan,   3.30877771e-02,\n",
       "           1.22473341e+00],\n",
       "        [  2.44918000e+01,              nan,   5.35343018e-02,\n",
       "           1.29214608e+00],\n",
       "        [  3.57708000e+01,   1.00000000e+00,   1.27051703e-01,\n",
       "           1.24907142e+00]]),\n",
       " array([[  5.5082    ,   1.        ,   0.041559  ,   1.46498029],\n",
       "        [ 11.7051    ,          nan,   0.03308778,   1.22473341],\n",
       "        [ 18.5901    ,          nan,   0.0535343 ,   1.29214608],\n",
       "        [ 29.8691    ,   1.        ,   0.1270517 ,   1.24907142]]),\n",
       " array([[  6.1969    ,          nan,   0.03308778,   1.22473341],\n",
       "        [ 13.0819    ,          nan,   0.0535343 ,   1.29214608],\n",
       "        [ 24.3609    ,   1.        ,   0.1270517 ,   1.24907142]]),\n",
       " array([[  6.885     ,          nan,   0.0535343 ,   1.29214608],\n",
       "        [ 18.164     ,   1.        ,   0.1270517 ,   1.24907142]]),\n",
       " array([[ 11.279     ,   1.        ,   0.1270517 ,   1.24907142]])]"
      ]
     },
     "execution_count": 35,
     "metadata": {},
     "output_type": "execute_result"
    }
   ],
   "source": [
    "y_"
   ]
  },
  {
   "cell_type": "code",
   "execution_count": null,
   "metadata": {
    "collapsed": true
   },
   "outputs": [],
   "source": [
    "j"
   ]
  },
  {
   "cell_type": "code",
   "execution_count": 33,
   "metadata": {
    "collapsed": false
   },
   "outputs": [
    {
     "ename": "ValueError",
     "evalue": "cannot convert float NaN to integer",
     "output_type": "error",
     "traceback": [
      "\u001b[0;31m---------------------------------------------------------------------------\u001b[0m",
      "\u001b[0;31mValueError\u001b[0m                                Traceback (most recent call last)",
      "\u001b[0;32m<ipython-input-33-e41d92825c7f>\u001b[0m in \u001b[0;36m<module>\u001b[0;34m()\u001b[0m\n\u001b[0;32m----> 1\u001b[0;31m \u001b[0moutput\u001b[0m \u001b[0;34m=\u001b[0m \u001b[0mtr\u001b[0m\u001b[0;34m.\u001b[0m\u001b[0mparse_data\u001b[0m\u001b[0;34m(\u001b[0m\u001b[0mx_\u001b[0m\u001b[0;34m,\u001b[0m\u001b[0my_\u001b[0m\u001b[0;34m,\u001b[0m\u001b[0mdata\u001b[0m\u001b[0;34m[\u001b[0m\u001b[0mdata\u001b[0m\u001b[0;34m.\u001b[0m\u001b[0mRID\u001b[0m\u001b[0;34m==\u001b[0m\u001b[0;36m2\u001b[0m\u001b[0;34m]\u001b[0m\u001b[0;34m[\u001b[0m\u001b[0;34m'RID'\u001b[0m\u001b[0;34m]\u001b[0m\u001b[0;34m)\u001b[0m\u001b[0;34m\u001b[0m\u001b[0m\n\u001b[0m",
      "\u001b[0;32m/Users/jakevogel/git/small_heads/TADPOLE/tadpole/train.py\u001b[0m in \u001b[0;36mparse_data\u001b[0;34m(feature_list, output_list, ids)\u001b[0m\n\u001b[1;32m    166\u001b[0m             \u001b[0mventricle\u001b[0m\u001b[0;34m.\u001b[0m\u001b[0mappend\u001b[0m\u001b[0;34m(\u001b[0m\u001b[0my_timepoint\u001b[0m\u001b[0;34m[\u001b[0m\u001b[0;36m3\u001b[0m\u001b[0;34m]\u001b[0m\u001b[0;34m)\u001b[0m\u001b[0;34m\u001b[0m\u001b[0m\n\u001b[1;32m    167\u001b[0m \u001b[0;34m\u001b[0m\u001b[0m\n\u001b[0;32m--> 168\u001b[0;31m     \u001b[0;32mreturn\u001b[0m \u001b[0;34m(\u001b[0m\u001b[0mnp\u001b[0m\u001b[0;34m.\u001b[0m\u001b[0masarray\u001b[0m\u001b[0;34m(\u001b[0m\u001b[0mx_\u001b[0m\u001b[0;34m,\u001b[0m \u001b[0mdtype\u001b[0m\u001b[0;34m=\u001b[0m\u001b[0;34m'float32'\u001b[0m\u001b[0;34m)\u001b[0m\u001b[0;34m,\u001b[0m \u001b[0mnp\u001b[0m\u001b[0;34m.\u001b[0m\u001b[0masarray\u001b[0m\u001b[0;34m(\u001b[0m\u001b[0mmonth\u001b[0m\u001b[0;34m,\u001b[0m \u001b[0mdtype\u001b[0m\u001b[0;34m=\u001b[0m\u001b[0;34m'float32'\u001b[0m\u001b[0;34m)\u001b[0m\u001b[0;34m)\u001b[0m\u001b[0;34m,\u001b[0m \u001b[0;34m(\u001b[0m\u001b[0mto_categorical\u001b[0m\u001b[0;34m(\u001b[0m\u001b[0mnp\u001b[0m\u001b[0;34m.\u001b[0m\u001b[0masarray\u001b[0m\u001b[0;34m(\u001b[0m\u001b[0;34m(\u001b[0m\u001b[0mdx\u001b[0m\u001b[0;34m)\u001b[0m\u001b[0;34m,\u001b[0m \u001b[0mdtype\u001b[0m\u001b[0;34m=\u001b[0m\u001b[0;34m'uint8'\u001b[0m\u001b[0;34m)\u001b[0m\u001b[0;34m)\u001b[0m\u001b[0;34m,\u001b[0m \u001b[0mnp\u001b[0m\u001b[0;34m.\u001b[0m\u001b[0masarray\u001b[0m\u001b[0;34m(\u001b[0m\u001b[0madas\u001b[0m\u001b[0;34m,\u001b[0m \u001b[0mdtype\u001b[0m\u001b[0;34m=\u001b[0m\u001b[0;34m'float32'\u001b[0m\u001b[0;34m)\u001b[0m\u001b[0;34m,\u001b[0m \u001b[0mnp\u001b[0m\u001b[0;34m.\u001b[0m\u001b[0masarray\u001b[0m\u001b[0;34m(\u001b[0m\u001b[0mventricle\u001b[0m\u001b[0;34m,\u001b[0m \u001b[0mdtype\u001b[0m\u001b[0;34m=\u001b[0m\u001b[0;34m'float32'\u001b[0m\u001b[0;34m)\u001b[0m\u001b[0;34m)\u001b[0m\u001b[0;34m,\u001b[0m \u001b[0;34m(\u001b[0m\u001b[0mnp\u001b[0m\u001b[0;34m.\u001b[0m\u001b[0masarray\u001b[0m\u001b[0;34m(\u001b[0m\u001b[0mrids\u001b[0m\u001b[0;34m,\u001b[0m \u001b[0mdtype\u001b[0m\u001b[0;34m=\u001b[0m\u001b[0;34m'uint8'\u001b[0m\u001b[0;34m)\u001b[0m\u001b[0;34m)\u001b[0m\u001b[0;34m\u001b[0m\u001b[0m\n\u001b[0m\u001b[1;32m    169\u001b[0m \u001b[0;34m\u001b[0m\u001b[0m\n\u001b[1;32m    170\u001b[0m \u001b[0;32mdef\u001b[0m \u001b[0mplot_graphs\u001b[0m\u001b[0;34m(\u001b[0m\u001b[0mhist\u001b[0m\u001b[0;34m,\u001b[0m \u001b[0mresults_dir\u001b[0m\u001b[0;34m,\u001b[0m \u001b[0mfold_num\u001b[0m\u001b[0;34m)\u001b[0m\u001b[0;34m:\u001b[0m\u001b[0;34m\u001b[0m\u001b[0m\n",
      "\u001b[0;32m//anaconda/envs/py3/lib/python3.5/site-packages/numpy/core/numeric.py\u001b[0m in \u001b[0;36masarray\u001b[0;34m(a, dtype, order)\u001b[0m\n\u001b[1;32m    480\u001b[0m \u001b[0;34m\u001b[0m\u001b[0m\n\u001b[1;32m    481\u001b[0m     \"\"\"\n\u001b[0;32m--> 482\u001b[0;31m     \u001b[0;32mreturn\u001b[0m \u001b[0marray\u001b[0m\u001b[0;34m(\u001b[0m\u001b[0ma\u001b[0m\u001b[0;34m,\u001b[0m \u001b[0mdtype\u001b[0m\u001b[0;34m,\u001b[0m \u001b[0mcopy\u001b[0m\u001b[0;34m=\u001b[0m\u001b[0;32mFalse\u001b[0m\u001b[0;34m,\u001b[0m \u001b[0morder\u001b[0m\u001b[0;34m=\u001b[0m\u001b[0morder\u001b[0m\u001b[0;34m)\u001b[0m\u001b[0;34m\u001b[0m\u001b[0m\n\u001b[0m\u001b[1;32m    483\u001b[0m \u001b[0;34m\u001b[0m\u001b[0m\n\u001b[1;32m    484\u001b[0m \u001b[0;32mdef\u001b[0m \u001b[0masanyarray\u001b[0m\u001b[0;34m(\u001b[0m\u001b[0ma\u001b[0m\u001b[0;34m,\u001b[0m \u001b[0mdtype\u001b[0m\u001b[0;34m=\u001b[0m\u001b[0;32mNone\u001b[0m\u001b[0;34m,\u001b[0m \u001b[0morder\u001b[0m\u001b[0;34m=\u001b[0m\u001b[0;32mNone\u001b[0m\u001b[0;34m)\u001b[0m\u001b[0;34m:\u001b[0m\u001b[0;34m\u001b[0m\u001b[0m\n",
      "\u001b[0;31mValueError\u001b[0m: cannot convert float NaN to integer"
     ]
    }
   ],
   "source": [
    "output = tr.parse_data(x_,y_,data[data.RID==2]['RID'])"
   ]
  },
  {
   "cell_type": "code",
   "execution_count": 27,
   "metadata": {
    "collapsed": false
   },
   "outputs": [
    {
     "data": {
      "text/plain": [
       "0          0.00000\n",
       "5723       5.86885\n",
       "5724      35.54100\n",
       "5725      60.32790\n",
       "5726      65.67210\n",
       "5727      72.19670\n",
       "5728      78.26230\n",
       "5729      84.42620\n",
       "5730      90.32790\n",
       "5731      95.83610\n",
       "10836    102.03300\n",
       "11571    108.91800\n",
       "11959    120.19700\n",
       "Name: Month_bl, dtype: float64"
      ]
     },
     "execution_count": 27,
     "metadata": {},
     "output_type": "execute_result"
    }
   ],
   "source": [
    "full_df[full_df.RID==2]['Month_bl'] "
   ]
  },
  {
   "cell_type": "code",
   "execution_count": null,
   "metadata": {
    "collapsed": true
   },
   "outputs": [],
   "source": []
  }
 ],
 "metadata": {
  "anaconda-cloud": {},
  "kernelspec": {
   "display_name": "Python [conda env:py3]",
   "language": "python",
   "name": "conda-env-py3-py"
  },
  "language_info": {
   "codemirror_mode": {
    "name": "ipython",
    "version": 3
   },
   "file_extension": ".py",
   "mimetype": "text/x-python",
   "name": "python",
   "nbconvert_exporter": "python",
   "pygments_lexer": "ipython3",
   "version": "3.5.2"
  }
 },
 "nbformat": 4,
 "nbformat_minor": 1
}
