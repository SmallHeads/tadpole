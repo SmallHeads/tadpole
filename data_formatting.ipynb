{
 "cells": [
  {
   "cell_type": "code",
   "execution_count": 1,
   "metadata": {
    "collapsed": true
   },
   "outputs": [],
   "source": [
    "import pandas as pd"
   ]
  },
  {
   "cell_type": "code",
   "execution_count": 2,
   "metadata": {
    "collapsed": false
   },
   "outputs": [
    {
     "name": "stderr",
     "output_type": "stream",
     "text": [
      "/Users/AngelaTam/anaconda3/lib/python3.5/site-packages/IPython/core/interactiveshell.py:2717: DtypeWarning: Columns (471,473,474,487,488,489,490,491,492,493,494,495,496,497,498,499,500,501,502,503,504,505,506,507,508,509,510,511,512,513,514,515,516,517,518,519,520,521,522,523,524,525,526,527,528,529,530,531,532,533,534,535,536,537,538,539,540,541,542,543,544,545,546,547,548,549,550,551,552,553,554,555,556,557,558,559,560,561,562,563,569,570,572,573,574,575,576,577,578,579,580,581,582,583,584,585,586,587,588,589,590,591,592,593,594,595,596,597,599,601,606,607,608,609,610,611,612,613,614,615,616,617,618,619,620,621,624,625,626,627,628,629,630,631,632,633,634,636,637,638,639,640,641,642,643,644,645,646,647,648,649,650,651,652,653,654,655,656,657,658,659,660,661,663,664,665,666,667,668,669,670,671,672,673,674,675,676,677,678,679,680,681,682,683,684,685,686,687,688,689,690,691,692,693,694,695,696,697,698,699,700,701,702,703,704,705,706,707,708,709,710,711,712,713,714,715,716,717,718,719,720,721,722,723,724,725,726,727,728,729,730,731,732,733,734,735,736,737,738,739,745,746,748,749,750,751,752,753,754,755,756,757,758,759,760,761,762,763,764,765,766,767,770,771,776,777,778,779,780,781,782,783,784,785,786,787,788,789,790,791,794,795,797,798,799,800,801,802,803,804,806,807,808,809,810,811,812,813,814,815,816,817,818,819,820,821,822,823,824,825,826,827,828,829,830,831) have mixed types. Specify dtype option on import or set low_memory=False.\n",
      "  interactivity=interactivity, compiler=compiler, result=result)\n"
     ]
    }
   ],
   "source": [
    "d1d2 = pd.read_csv('/Users/AngelaTam/Downloads/tadpole_challenge/TADPOLE_D1_D2.csv')"
   ]
  },
  {
   "cell_type": "code",
   "execution_count": 3,
   "metadata": {
    "collapsed": true
   },
   "outputs": [],
   "source": [
    "d3 = pd.read_csv('/Users/AngelaTam/Downloads/tadpole_challenge/TADPOLE_D3.csv')"
   ]
  },
  {
   "cell_type": "code",
   "execution_count": 156,
   "metadata": {
    "collapsed": true
   },
   "outputs": [],
   "source": [
    "enco = pd.read_csv('/Users/AngelaTam/Downloads/encoded.csv',index_col=0)"
   ]
  },
  {
   "cell_type": "code",
   "execution_count": 242,
   "metadata": {
    "collapsed": false,
    "scrolled": true
   },
   "outputs": [
    {
     "name": "stderr",
     "output_type": "stream",
     "text": [
      "/Users/AngelaTam/anaconda3/lib/python3.5/site-packages/ipykernel/__main__.py:2: SettingWithCopyWarning: \n",
      "A value is trying to be set on a copy of a slice from a DataFrame.\n",
      "Try using .loc[row_indexer,col_indexer] = value instead\n",
      "\n",
      "See the caveats in the documentation: http://pandas.pydata.org/pandas-docs/stable/indexing.html#indexing-view-versus-copy\n",
      "  from ipykernel import kernelapp as app\n",
      "/Users/AngelaTam/anaconda3/lib/python3.5/site-packages/ipykernel/__main__.py:21: SettingWithCopyWarning: \n",
      "A value is trying to be set on a copy of a slice from a DataFrame\n",
      "\n",
      "See the caveats in the documentation: http://pandas.pydata.org/pandas-docs/stable/indexing.html#indexing-view-versus-copy\n",
      "/Users/AngelaTam/anaconda3/lib/python3.5/site-packages/ipykernel/__main__.py:22: SettingWithCopyWarning: \n",
      "A value is trying to be set on a copy of a slice from a DataFrame\n",
      "\n",
      "See the caveats in the documentation: http://pandas.pydata.org/pandas-docs/stable/indexing.html#indexing-view-versus-copy\n",
      "/Users/AngelaTam/anaconda3/lib/python3.5/site-packages/ipykernel/__main__.py:23: SettingWithCopyWarning: \n",
      "A value is trying to be set on a copy of a slice from a DataFrame\n",
      "\n",
      "See the caveats in the documentation: http://pandas.pydata.org/pandas-docs/stable/indexing.html#indexing-view-versus-copy\n",
      "/Users/AngelaTam/anaconda3/lib/python3.5/site-packages/ipykernel/__main__.py:24: SettingWithCopyWarning: \n",
      "A value is trying to be set on a copy of a slice from a DataFrame\n",
      "\n",
      "See the caveats in the documentation: http://pandas.pydata.org/pandas-docs/stable/indexing.html#indexing-view-versus-copy\n",
      "/Users/AngelaTam/anaconda3/lib/python3.5/site-packages/ipykernel/__main__.py:25: SettingWithCopyWarning: \n",
      "A value is trying to be set on a copy of a slice from a DataFrame\n",
      "\n",
      "See the caveats in the documentation: http://pandas.pydata.org/pandas-docs/stable/indexing.html#indexing-view-versus-copy\n"
     ]
    },
    {
     "data": {
      "text/plain": [
       "\"\\ndata['VISCODE'][data['VISCODE']=='bl'] = 0\\ndata['VISCODE'][data['VISCODE']=='m06'] = 0.6\\ndata['VISCODE'][data['VISCODE']=='m12'] = 1\\ndata['VISCODE'][data['VISCODE']=='m18'] = 1.6\\ndata['VISCODE'][data['VISCODE']=='m24'] = 2\\ndata['VISCODE'][data['VISCODE']=='m36'] = 3\\ndata['VISCODE'][data['VISCODE']=='m48'] = 4\\ndata['VISCODE'][data['VISCODE']=='m60'] = 5\\ndata['VISCODE'][data['VISCODE']=='m72'] = 6\\ndata['VISCODE'][data['VISCODE']=='m84'] = 7\\ndata['VISCODE'][data['VISCODE']=='m96'] = 8\\ndata['VISCODE'][data['VISCODE']=='m108'] = 9\\ndata['VISCODE'][data['VISCODE']=='m120'] = 10\\n\""
      ]
     },
     "execution_count": 242,
     "metadata": {},
     "output_type": "execute_result"
    }
   ],
   "source": [
    "data = enco[d3.columns]\n",
    "data['Month_bl'] = enco['Month_bl']\n",
    "\n",
    "\n",
    "\n",
    "\n",
    "target = data[['DX','ADAS13','Ventricles','ICV']]\n",
    "target = target.dropna(axis=0)\n",
    "data = data.loc[target.index]\n",
    "data = data.dropna(axis=1)\n",
    "target = target.loc[data.index]\n",
    "target['vent_vol']  = target['Ventricles'].values/target['ICV'].values\n",
    "data['vent_vol'] = target['vent_vol']\n",
    "target['Month_bl'] = data['Month_bl']\n",
    "target = target[['Month_bl','DX','ADAS13','vent_vol']]\n",
    "\n",
    "\n",
    "target['DX'].unique()\n",
    "\n",
    "target['DX'][target['DX']==1] = 0 # NL\n",
    "target['DX'][target['DX']==3] = 1 # MCI\n",
    "target['DX'][target['DX']==2] = 2 # AD\n",
    "target['DX'][target['DX']==5] = 2\n",
    "target['DX'][target['DX']==6] = 0\n",
    "target['DX'][target['DX']==7] = 1\n",
    "\n",
    "'''\n",
    "data['VISCODE'][data['VISCODE']=='bl'] = 0\n",
    "data['VISCODE'][data['VISCODE']=='m06'] = 0.6\n",
    "data['VISCODE'][data['VISCODE']=='m12'] = 1\n",
    "data['VISCODE'][data['VISCODE']=='m18'] = 1.6\n",
    "data['VISCODE'][data['VISCODE']=='m24'] = 2\n",
    "data['VISCODE'][data['VISCODE']=='m36'] = 3\n",
    "data['VISCODE'][data['VISCODE']=='m48'] = 4\n",
    "data['VISCODE'][data['VISCODE']=='m60'] = 5\n",
    "data['VISCODE'][data['VISCODE']=='m72'] = 6\n",
    "data['VISCODE'][data['VISCODE']=='m84'] = 7\n",
    "data['VISCODE'][data['VISCODE']=='m96'] = 8\n",
    "data['VISCODE'][data['VISCODE']=='m108'] = 9\n",
    "data['VISCODE'][data['VISCODE']=='m120'] = 10\n",
    "'''\n",
    "#'bl', 'm06', 'm12', 'm24', 'm18', 'm36', 'm48', 'm72', 'm60', 'm84', 'm96', 'm108', 'm120'\n",
    "\n",
    "#list_index = target.dropna(axis=0).index\n",
    "\n",
    "#target = target.drop(['Ventricles','ICV'],axis=1)\n",
    "#data = data.loc[list_index]"
   ]
  },
  {
   "cell_type": "code",
   "execution_count": 226,
   "metadata": {
    "collapsed": false,
    "scrolled": true
   },
   "outputs": [
    {
     "name": "stdout",
     "output_type": "stream",
     "text": [
      "Index(['RID', 'VISCODE', 'EXAMDATE', 'DX', 'AGE', 'PTGENDER', 'PTEDUCAT',\n",
      "       'PTETHCAT', 'PTRACCAT', 'PTMARRY', 'COLPROT', 'ADAS13', 'Ventricles',\n",
      "       'ICV', 'EXAMDATE_UCSFFSX_11_02_15_UCSFFSX51_08_01_16',\n",
      "       'VERSION_UCSFFSX_11_02_15_UCSFFSX51_08_01_16',\n",
      "       'RUNDATE_UCSFFSX_11_02_15_UCSFFSX51_08_01_16',\n",
      "       'STATUS_UCSFFSX_11_02_15_UCSFFSX51_08_01_16',\n",
      "       'OVERALLQC_UCSFFSX_11_02_15_UCSFFSX51_08_01_16',\n",
      "       'TEMPQC_UCSFFSX_11_02_15_UCSFFSX51_08_01_16',\n",
      "       'FRONTQC_UCSFFSX_11_02_15_UCSFFSX51_08_01_16',\n",
      "       'PARQC_UCSFFSX_11_02_15_UCSFFSX51_08_01_16',\n",
      "       'INSULAQC_UCSFFSX_11_02_15_UCSFFSX51_08_01_16',\n",
      "       'OCCQC_UCSFFSX_11_02_15_UCSFFSX51_08_01_16',\n",
      "       'BGQC_UCSFFSX_11_02_15_UCSFFSX51_08_01_16',\n",
      "       'CWMQC_UCSFFSX_11_02_15_UCSFFSX51_08_01_16',\n",
      "       'VENTQC_UCSFFSX_11_02_15_UCSFFSX51_08_01_16', 'Month_bl'],\n",
      "      dtype='object')\n"
     ]
    }
   ],
   "source": [
    "\n",
    "print(data.columns)"
   ]
  },
  {
   "cell_type": "code",
   "execution_count": 243,
   "metadata": {
    "collapsed": false
   },
   "outputs": [
    {
     "name": "stdout",
     "output_type": "stream",
     "text": [
      "2.0 0.0\n",
      "[False]\n",
      "3.0 5.96721\n",
      "[False False  True  True]\n",
      "[[  5.99999      2.          35.           0.04732538]\n",
      " [ 17.96719      2.          37.67         0.05118156]]\n",
      "3.0 11.9672\n",
      "[False False False  True]\n",
      "[[ 11.9672       2.          37.67         0.05118156]]\n"
     ]
    }
   ],
   "source": [
    "\n",
    "def compute_data_table(sel_index):\n",
    "    x_ = []\n",
    "    y_ = []\n",
    "    selection = data.iloc[sel_index][['RID','Month_bl']]\n",
    "    for i in range(selection.shape[0]):\n",
    "        rid, vis_month = selection.iloc[i].values\n",
    "        print(rid,vis_month)\n",
    "        mask = (data[data['RID']==rid]['Month_bl']>vis_month).values\n",
    "\n",
    "        valid_data = data[data['RID']==rid][mask]\n",
    "        target_ = target[data['RID']==rid][mask]\n",
    "        \n",
    "        print(mask)\n",
    "        if valid_data.shape[0]>0:\n",
    "            # add to x \n",
    "            x_.append(data.iloc[sel_index[i]].drop(['VISCODE','EXAMDATE','COLPROT','Month_bl']).values)\n",
    "            # add to y\n",
    "            target_ = target_.values\n",
    "            target_[:,0] = target_[:,0]-vis_month\n",
    "            print(target_)\n",
    "            \n",
    "            y_.append(target_)\n",
    "            \n",
    "    return x_,y_\n",
    " \n",
    "sel_index = [0,2,3]\n",
    "x_,y_ = compute_data_table(sel_index) "
   ]
  }
 ],
 "metadata": {
  "anaconda-cloud": {},
  "kernelspec": {
   "display_name": "Python [conda root]",
   "language": "python",
   "name": "conda-root-py"
  },
  "language_info": {
   "codemirror_mode": {
    "name": "ipython",
    "version": 3
   },
   "file_extension": ".py",
   "mimetype": "text/x-python",
   "name": "python",
   "nbconvert_exporter": "python",
   "pygments_lexer": "ipython3",
   "version": "3.5.2"
  }
 },
 "nbformat": 4,
 "nbformat_minor": 1
}
